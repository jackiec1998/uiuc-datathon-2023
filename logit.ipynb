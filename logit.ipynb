{
 "cells": [
  {
   "cell_type": "code",
   "execution_count": 15,
   "metadata": {},
   "outputs": [],
   "source": [
    "import pandas as pd\n",
    "import numpy as np\n",
    "from sklearn.model_selection import train_test_split\n",
    "from sklearn.metrics import confusion_matrix, f1_score\n",
    "import statsmodels.api as sm"
   ]
  },
  {
   "cell_type": "code",
   "execution_count": 5,
   "metadata": {},
   "outputs": [],
   "source": [
    "def clean(df):\n",
    "    return df[~df['bank_fico_buckets_20'].isin(['Exception', 'Missing'])].copy()\n",
    "\n",
    "def convert_fico(score):\n",
    "    if score == '<= 560':\n",
    "        return 560\n",
    "    elif score =='761+':\n",
    "        return 761\n",
    "\n",
    "    bounds = score.split('-')\n",
    "    return (int(bounds[0]) + int(bounds[1])) / 2\n",
    "\n",
    "complete = pd.read_csv('data/training_data.csv',low_memory=False)\n",
    "train, test = train_test_split(complete, test_size=0.1)\n",
    "train_clean, test_clean = clean(train), clean(test)\n",
    "\n",
    "train_clean['fico_score'] = train_clean['bank_fico_buckets_20'] \\\n",
    "    .apply(lambda score: convert_fico(score))\n",
    "\n",
    "test_clean['fico_score'] = test_clean['bank_fico_buckets_20'] \\\n",
    "    .apply(lambda score: convert_fico(score))"
   ]
  },
  {
   "cell_type": "code",
   "execution_count": 7,
   "metadata": {},
   "outputs": [
    {
     "name": "stdout",
     "output_type": "stream",
     "text": [
      "Optimization terminated successfully.\n",
      "         Current function value: 0.008898\n",
      "         Iterations 14\n"
     ]
    },
    {
     "data": {
      "text/html": [
       "<table class=\"simpletable\">\n",
       "<caption>Logit Regression Results</caption>\n",
       "<tr>\n",
       "  <th>Dep. Variable:</th>      <td>charge_off</td>    <th>  No. Observations:  </th>  <td>5147578</td>\n",
       "</tr>\n",
       "<tr>\n",
       "  <th>Model:</th>                 <td>Logit</td>      <th>  Df Residuals:      </th>  <td>5147569</td>\n",
       "</tr>\n",
       "<tr>\n",
       "  <th>Method:</th>                 <td>MLE</td>       <th>  Df Model:          </th>  <td>     8</td> \n",
       "</tr>\n",
       "<tr>\n",
       "  <th>Date:</th>            <td>Sat, 25 Mar 2023</td> <th>  Pseudo R-squ.:     </th>  <td>0.5226</td> \n",
       "</tr>\n",
       "<tr>\n",
       "  <th>Time:</th>                <td>18:13:46</td>     <th>  Log-Likelihood:    </th> <td> -45803.</td>\n",
       "</tr>\n",
       "<tr>\n",
       "  <th>converged:</th>             <td>True</td>       <th>  LL-Null:           </th> <td> -95949.</td>\n",
       "</tr>\n",
       "<tr>\n",
       "  <th>Covariance Type:</th>     <td>nonrobust</td>    <th>  LLR p-value:       </th>  <td> 0.000</td> \n",
       "</tr>\n",
       "</table>\n",
       "<table class=\"simpletable\">\n",
       "<tr>\n",
       "           <td></td>              <th>coef</th>     <th>std err</th>      <th>z</th>      <th>P>|z|</th>  <th>[0.025</th>    <th>0.975]</th>  \n",
       "</tr>\n",
       "<tr>\n",
       "  <th>const</th>               <td>  -12.8400</td> <td>    0.057</td> <td> -226.714</td> <td> 0.000</td> <td>  -12.951</td> <td>  -12.729</td>\n",
       "</tr>\n",
       "<tr>\n",
       "  <th>financial_active</th>    <td>    1.3097</td> <td>    0.023</td> <td>   57.864</td> <td> 0.000</td> <td>    1.265</td> <td>    1.354</td>\n",
       "</tr>\n",
       "<tr>\n",
       "  <th>promotion_flag</th>      <td>    0.3634</td> <td>    0.009</td> <td>   39.656</td> <td> 0.000</td> <td>    0.345</td> <td>    0.381</td>\n",
       "</tr>\n",
       "<tr>\n",
       "  <th>ever_delinquent_flg</th> <td>    0.1431</td> <td>    0.008</td> <td>   17.005</td> <td> 0.000</td> <td>    0.127</td> <td>    0.160</td>\n",
       "</tr>\n",
       "<tr>\n",
       "  <th>stmt_balance</th>        <td>   -1.1015</td> <td>    0.028</td> <td>  -38.655</td> <td> 0.000</td> <td>   -1.157</td> <td>   -1.046</td>\n",
       "</tr>\n",
       "<tr>\n",
       "  <th>prev_balance</th>        <td>    0.3691</td> <td>    0.005</td> <td>   71.938</td> <td> 0.000</td> <td>    0.359</td> <td>    0.379</td>\n",
       "</tr>\n",
       "<tr>\n",
       "  <th>credit_limit_amt</th>    <td>   -5.5182</td> <td>    0.048</td> <td> -115.128</td> <td> 0.000</td> <td>   -5.612</td> <td>   -5.424</td>\n",
       "</tr>\n",
       "<tr>\n",
       "  <th>promo_bal_amt</th>       <td>   -1.1326</td> <td>    0.039</td> <td>  -29.355</td> <td> 0.000</td> <td>   -1.208</td> <td>   -1.057</td>\n",
       "</tr>\n",
       "<tr>\n",
       "  <th>fico_score</th>          <td>   -1.3859</td> <td>    0.009</td> <td> -146.373</td> <td> 0.000</td> <td>   -1.404</td> <td>   -1.367</td>\n",
       "</tr>\n",
       "</table><br/><br/>Possibly complete quasi-separation: A fraction 0.71 of observations can be<br/>perfectly predicted. This might indicate that there is complete<br/>quasi-separation. In this case some parameters will not be identified."
      ],
      "text/plain": [
       "<class 'statsmodels.iolib.summary.Summary'>\n",
       "\"\"\"\n",
       "                           Logit Regression Results                           \n",
       "==============================================================================\n",
       "Dep. Variable:             charge_off   No. Observations:              5147578\n",
       "Model:                          Logit   Df Residuals:                  5147569\n",
       "Method:                           MLE   Df Model:                            8\n",
       "Date:                Sat, 25 Mar 2023   Pseudo R-squ.:                  0.5226\n",
       "Time:                        18:13:46   Log-Likelihood:                -45803.\n",
       "converged:                       True   LL-Null:                       -95949.\n",
       "Covariance Type:            nonrobust   LLR p-value:                     0.000\n",
       "=======================================================================================\n",
       "                          coef    std err          z      P>|z|      [0.025      0.975]\n",
       "---------------------------------------------------------------------------------------\n",
       "const                 -12.8400      0.057   -226.714      0.000     -12.951     -12.729\n",
       "financial_active        1.3097      0.023     57.864      0.000       1.265       1.354\n",
       "promotion_flag          0.3634      0.009     39.656      0.000       0.345       0.381\n",
       "ever_delinquent_flg     0.1431      0.008     17.005      0.000       0.127       0.160\n",
       "stmt_balance           -1.1015      0.028    -38.655      0.000      -1.157      -1.046\n",
       "prev_balance            0.3691      0.005     71.938      0.000       0.359       0.379\n",
       "credit_limit_amt       -5.5182      0.048   -115.128      0.000      -5.612      -5.424\n",
       "promo_bal_amt          -1.1326      0.039    -29.355      0.000      -1.208      -1.057\n",
       "fico_score             -1.3859      0.009   -146.373      0.000      -1.404      -1.367\n",
       "=======================================================================================\n",
       "\n",
       "Possibly complete quasi-separation: A fraction 0.71 of observations can be\n",
       "perfectly predicted. This might indicate that there is complete\n",
       "quasi-separation. In this case some parameters will not be identified.\n",
       "\"\"\""
      ]
     },
     "execution_count": 7,
     "metadata": {},
     "output_type": "execute_result"
    }
   ],
   "source": [
    "def normalize(X):\n",
    "    return (X - X.mean()) / X.std()\n",
    "\n",
    "features = [\n",
    "    'financial_active',\n",
    "    'promotion_flag',\n",
    "    'ever_delinquent_flg',\n",
    "    'stmt_balance',\n",
    "    'prev_balance',\n",
    "    'credit_limit_amt',\n",
    "    'promo_bal_amt',\n",
    "    'fico_score'\n",
    "]\n",
    "\n",
    "X = train_clean[features]\n",
    "\n",
    "X = normalize(X)\n",
    "\n",
    "X = sm.add_constant(X)\n",
    "\n",
    "y = train_clean['charge_off']\n",
    "\n",
    "model = sm.Logit(y, X)\n",
    "\n",
    "results = model.fit()\n",
    "results.summary()"
   ]
  },
  {
   "cell_type": "code",
   "execution_count": 11,
   "metadata": {},
   "outputs": [
    {
     "data": {
      "text/plain": [
       "123310     0.0\n",
       "348157     0.0\n",
       "1201095    0.0\n",
       "4367768    0.0\n",
       "4947906    0.0\n",
       "          ... \n",
       "1178400    0.0\n",
       "1274247    0.0\n",
       "1373461    0.0\n",
       "2689923    0.0\n",
       "4992849    0.0\n",
       "Length: 572029, dtype: float64"
      ]
     },
     "execution_count": 11,
     "metadata": {},
     "output_type": "execute_result"
    }
   ],
   "source": [
    "# Getting our predictions.\n",
    "X = test_clean[features]\n",
    "X = normalize(X)\n",
    "X = sm.add_constant(X)\n",
    "\n",
    "predictions = results.predict(X).round()\n",
    "predictions"
   ]
  },
  {
   "cell_type": "code",
   "execution_count": 12,
   "metadata": {},
   "outputs": [
    {
     "data": {
      "text/plain": [
       "0.0    571569\n",
       "1.0       460\n",
       "dtype: int64"
      ]
     },
     "execution_count": 12,
     "metadata": {},
     "output_type": "execute_result"
    }
   ],
   "source": [
    "predictions.value_counts()"
   ]
  },
  {
   "cell_type": "code",
   "execution_count": 16,
   "metadata": {},
   "outputs": [
    {
     "data": {
      "text/plain": [
       "array([[570366,     55],\n",
       "       [  1203,    405]], dtype=int64)"
      ]
     },
     "execution_count": 16,
     "metadata": {},
     "output_type": "execute_result"
    }
   ],
   "source": [
    "confusion_matrix(test_clean['charge_off'], predictions)"
   ]
  },
  {
   "cell_type": "code",
   "execution_count": 17,
   "metadata": {},
   "outputs": [
    {
     "data": {
      "text/plain": [
       "0.39168278529980655"
      ]
     },
     "execution_count": 17,
     "metadata": {},
     "output_type": "execute_result"
    }
   ],
   "source": [
    "f1_score(test_clean['charge_off'], predictions)"
   ]
  }
 ],
 "metadata": {
  "kernelspec": {
   "display_name": "Python 3",
   "language": "python",
   "name": "python3"
  },
  "language_info": {
   "codemirror_mode": {
    "name": "ipython",
    "version": 3
   },
   "file_extension": ".py",
   "mimetype": "text/x-python",
   "name": "python",
   "nbconvert_exporter": "python",
   "pygments_lexer": "ipython3",
   "version": "3.10.0"
  },
  "orig_nbformat": 4
 },
 "nbformat": 4,
 "nbformat_minor": 2
}
