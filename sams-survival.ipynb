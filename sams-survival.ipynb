{
 "cells": [
  {
   "cell_type": "code",
   "execution_count": null,
   "metadata": {},
   "outputs": [],
   "source": [
    "import pandas as pd\n",
    "import numpy as np\n",
    "from main import load_data\n",
    "from lifelines.utils import survival_table_from_events\n",
    "from lifelines import KaplanMeierFitter\n",
    "from lifelines import CoxPHFitter\n",
    "from sklearn.preprocessing import OneHotEncoder"
   ]
  },
  {
   "cell_type": "code",
   "execution_count": null,
   "metadata": {},
   "outputs": [],
   "source": [
    "# Loading in the training dataset from Sam's code.\n",
    "train = load_data(train=True).sample(frac=0.1)\n",
    "test = load_data(train=False)\n",
    "display(train, test)"
   ]
  },
  {
   "cell_type": "code",
   "execution_count": null,
   "metadata": {},
   "outputs": [],
   "source": [
    "table = survival_table_from_events(train['time_elapsed'], train['charge_off'])\n",
    "table"
   ]
  },
  {
   "cell_type": "code",
   "execution_count": null,
   "metadata": {},
   "outputs": [],
   "source": [
    "train_sub = train.sample(frac=0.1)\n",
    "features_corr = train_sub.corrwith(train_sub[\"charge_off\"], numeric_only=True).sort_values().dropna()\n",
    "features_corr.iloc[:20], features_corr[-20:]"
   ]
  },
  {
   "cell_type": "code",
   "execution_count": null,
   "metadata": {},
   "outputs": [],
   "source": [
    "train_sub = train[[\n",
    "    \"charge_off\", \"time_elapsed\", \"total_writeoff_amt\", \"nbr_mths_due\"\n",
    "]].dropna().sample(frac=0.3)\n",
    "cph = CoxPHFitter()\n",
    "cph.fit(\n",
    "    train_sub,\n",
    "    duration_col='time_elapsed',\n",
    "    event_col='charge_off',\n",
    "    show_progress=True,\n",
    "    fit_options=dict(\n",
    "        step_size=0.2,\n",
    "        precision=0.01,\n",
    "    ),\n",
    ")\n",
    "cph.print_summary()"
   ]
  },
  {
   "cell_type": "code",
   "execution_count": null,
   "metadata": {},
   "outputs": [],
   "source": []
  }
 ],
 "metadata": {
  "kernelspec": {
   "display_name": "Python 3 (ipykernel)",
   "language": "python",
   "name": "python3"
  },
  "language_info": {
   "codemirror_mode": {
    "name": "ipython",
    "version": 3
   },
   "file_extension": ".py",
   "mimetype": "text/x-python",
   "name": "python",
   "nbconvert_exporter": "python",
   "pygments_lexer": "ipython3",
   "version": "3.10.9"
  }
 },
 "nbformat": 4,
 "nbformat_minor": 2
}
